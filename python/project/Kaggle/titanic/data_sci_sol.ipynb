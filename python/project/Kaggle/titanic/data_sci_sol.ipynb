import pandas as pd
import numpy as np
import random as rnd
import seaborn as sns
import matplotlib.pyplot as plt
%matplotlib inline

from sklearn.linear_model import LogisticRegression
from sklearn.svm import SVC, LInearSVC
from sklearn.ensemble import RandomForestClassifier
from sklearn.neighbors import KNeighborsClassifier
from sklearn.naive_bayes import GaussianNB
from sklearn.linear_model import Perception
from sklearn.linear_model import SGDCLassifier
from sklearn.tree import DecisionTreeClassifier
